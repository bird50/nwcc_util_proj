{
 "cells": [
  {
   "cell_type": "code",
   "execution_count": 6,
   "id": "99931dc4",
   "metadata": {},
   "outputs": [],
   "source": [
    "import pandas as pd\n",
    "import geopandas\n",
    "from pandas import DataFrame\n",
    "import time"
   ]
  },
  {
   "cell_type": "code",
   "execution_count": 4,
   "id": "e618082e",
   "metadata": {},
   "outputs": [],
   "source": [
    "df = pd.DataFrame(\n",
    "    {'City': ['Buenos Aires', 'Brasilia', 'Santiago', 'Bogota', 'Caracas'],\n",
    "     'Country': ['Argentina', 'Brazil', 'Chile', 'Colombia', 'Venezuela'],\n",
    "     'Latitude': [-34.58, -15.78, -33.45, 4.60, 10.48],\n",
    "     'Longitude': [-58.66, -47.91, -70.66, -74.08, -66.86]})\n"
   ]
  },
  {
   "cell_type": "code",
   "execution_count": 5,
   "id": "5f89ab30",
   "metadata": {},
   "outputs": [],
   "source": [
    "gdf = geopandas.GeoDataFrame(\n",
    "    df, geometry=geopandas.points_from_xy(df.Longitude, df.Latitude))\n"
   ]
  },
  {
   "cell_type": "code",
   "execution_count": 6,
   "id": "895e1197",
   "metadata": {},
   "outputs": [
    {
     "name": "stdout",
     "output_type": "stream",
     "text": [
      "           City    Country  Latitude  Longitude                     geometry\n",
      "0  Buenos Aires  Argentina    -34.58     -58.66  POINT (-58.66000 -34.58000)\n",
      "1      Brasilia     Brazil    -15.78     -47.91  POINT (-47.91000 -15.78000)\n",
      "2      Santiago      Chile    -33.45     -70.66  POINT (-70.66000 -33.45000)\n",
      "3        Bogota   Colombia      4.60     -74.08    POINT (-74.08000 4.60000)\n",
      "4       Caracas  Venezuela     10.48     -66.86   POINT (-66.86000 10.48000)\n"
     ]
    }
   ],
   "source": [
    "print(gdf.head())"
   ]
  },
  {
   "cell_type": "code",
   "execution_count": 2,
   "id": "78127dab",
   "metadata": {},
   "outputs": [
    {
     "data": {
      "text/plain": [
       "[[6.98899, 100.20831],\n",
       " [7.10658, 100.05704],\n",
       " [7.23755, 100.59734],\n",
       " [8.50352, 98.58305]]"
      ]
     },
     "execution_count": 2,
     "metadata": {},
     "output_type": "execute_result"
    }
   ],
   "source": [
    "ar= [[6.98899,100.20831],[7.10658,100.05704],[7.23755,100.59734],[8.50352,98.58305]]\n",
    "ar"
   ]
  },
  {
   "cell_type": "code",
   "execution_count": 3,
   "id": "62d13e47",
   "metadata": {},
   "outputs": [
    {
     "data": {
      "text/html": [
       "<div>\n",
       "<style scoped>\n",
       "    .dataframe tbody tr th:only-of-type {\n",
       "        vertical-align: middle;\n",
       "    }\n",
       "\n",
       "    .dataframe tbody tr th {\n",
       "        vertical-align: top;\n",
       "    }\n",
       "\n",
       "    .dataframe thead th {\n",
       "        text-align: right;\n",
       "    }\n",
       "</style>\n",
       "<table border=\"1\" class=\"dataframe\">\n",
       "  <thead>\n",
       "    <tr style=\"text-align: right;\">\n",
       "      <th></th>\n",
       "      <th>lat</th>\n",
       "      <th>lng</th>\n",
       "    </tr>\n",
       "  </thead>\n",
       "  <tbody>\n",
       "    <tr>\n",
       "      <th>0</th>\n",
       "      <td>6.98899</td>\n",
       "      <td>100.20831</td>\n",
       "    </tr>\n",
       "    <tr>\n",
       "      <th>1</th>\n",
       "      <td>7.10658</td>\n",
       "      <td>100.05704</td>\n",
       "    </tr>\n",
       "    <tr>\n",
       "      <th>2</th>\n",
       "      <td>7.23755</td>\n",
       "      <td>100.59734</td>\n",
       "    </tr>\n",
       "    <tr>\n",
       "      <th>3</th>\n",
       "      <td>8.50352</td>\n",
       "      <td>98.58305</td>\n",
       "    </tr>\n",
       "  </tbody>\n",
       "</table>\n",
       "</div>"
      ],
      "text/plain": [
       "       lat        lng\n",
       "0  6.98899  100.20831\n",
       "1  7.10658  100.05704\n",
       "2  7.23755  100.59734\n",
       "3  8.50352   98.58305"
      ]
     },
     "execution_count": 3,
     "metadata": {},
     "output_type": "execute_result"
    }
   ],
   "source": [
    "df = DataFrame(ar,columns=['lat','lng'])\n",
    "df"
   ]
  },
  {
   "cell_type": "code",
   "execution_count": 4,
   "id": "71fafd8d",
   "metadata": {},
   "outputs": [
    {
     "data": {
      "text/html": [
       "<div>\n",
       "<style scoped>\n",
       "    .dataframe tbody tr th:only-of-type {\n",
       "        vertical-align: middle;\n",
       "    }\n",
       "\n",
       "    .dataframe tbody tr th {\n",
       "        vertical-align: top;\n",
       "    }\n",
       "\n",
       "    .dataframe thead th {\n",
       "        text-align: right;\n",
       "    }\n",
       "</style>\n",
       "<table border=\"1\" class=\"dataframe\">\n",
       "  <thead>\n",
       "    <tr style=\"text-align: right;\">\n",
       "      <th></th>\n",
       "      <th>lat</th>\n",
       "      <th>lng</th>\n",
       "      <th>geometry</th>\n",
       "    </tr>\n",
       "  </thead>\n",
       "  <tbody>\n",
       "    <tr>\n",
       "      <th>0</th>\n",
       "      <td>6.98899</td>\n",
       "      <td>100.20831</td>\n",
       "      <td>POINT (100.20831 6.98899)</td>\n",
       "    </tr>\n",
       "    <tr>\n",
       "      <th>1</th>\n",
       "      <td>7.10658</td>\n",
       "      <td>100.05704</td>\n",
       "      <td>POINT (100.05704 7.10658)</td>\n",
       "    </tr>\n",
       "    <tr>\n",
       "      <th>2</th>\n",
       "      <td>7.23755</td>\n",
       "      <td>100.59734</td>\n",
       "      <td>POINT (100.59734 7.23755)</td>\n",
       "    </tr>\n",
       "    <tr>\n",
       "      <th>3</th>\n",
       "      <td>8.50352</td>\n",
       "      <td>98.58305</td>\n",
       "      <td>POINT (98.58305 8.50352)</td>\n",
       "    </tr>\n",
       "  </tbody>\n",
       "</table>\n",
       "</div>"
      ],
      "text/plain": [
       "       lat        lng                   geometry\n",
       "0  6.98899  100.20831  POINT (100.20831 6.98899)\n",
       "1  7.10658  100.05704  POINT (100.05704 7.10658)\n",
       "2  7.23755  100.59734  POINT (100.59734 7.23755)\n",
       "3  8.50352   98.58305   POINT (98.58305 8.50352)"
      ]
     },
     "execution_count": 4,
     "metadata": {},
     "output_type": "execute_result"
    }
   ],
   "source": [
    "gdf = geopandas.GeoDataFrame(df, geometry=geopandas.points_from_xy(df.lng, df.lat))\n",
    "gdf.set_crs(epsg=4326, inplace=True)\n",
    "gdf"
   ]
  },
  {
   "cell_type": "code",
   "execution_count": 5,
   "id": "b6d92602",
   "metadata": {},
   "outputs": [
    {
     "data": {
      "text/html": [
       "<div>\n",
       "<style scoped>\n",
       "    .dataframe tbody tr th:only-of-type {\n",
       "        vertical-align: middle;\n",
       "    }\n",
       "\n",
       "    .dataframe tbody tr th {\n",
       "        vertical-align: top;\n",
       "    }\n",
       "\n",
       "    .dataframe thead th {\n",
       "        text-align: right;\n",
       "    }\n",
       "</style>\n",
       "<table border=\"1\" class=\"dataframe\">\n",
       "  <thead>\n",
       "    <tr style=\"text-align: right;\">\n",
       "      <th></th>\n",
       "      <th>PROV_NAMT</th>\n",
       "      <th>AMP_NAMT</th>\n",
       "      <th>TAM_NAMT</th>\n",
       "      <th>code_id</th>\n",
       "      <th>MB_CODE</th>\n",
       "      <th>region</th>\n",
       "      <th>NBASIN_T</th>\n",
       "      <th>SB_CODE</th>\n",
       "      <th>SB_NAME_T</th>\n",
       "      <th>geometry</th>\n",
       "    </tr>\n",
       "  </thead>\n",
       "  <tbody>\n",
       "    <tr>\n",
       "      <th>0</th>\n",
       "      <td>สงขลา</td>\n",
       "      <td>รัตภูมิ</td>\n",
       "      <td>เขาพระ</td>\n",
       "      <td>900909.0</td>\n",
       "      <td>20</td>\n",
       "      <td>ใต้</td>\n",
       "      <td>ทะเลสาบสงขลา</td>\n",
       "      <td>2002</td>\n",
       "      <td>ทะเลหลวง</td>\n",
       "      <td>MULTIPOLYGON (((100.05723 7.10739, 100.05717 7...</td>\n",
       "    </tr>\n",
       "    <tr>\n",
       "      <th>1</th>\n",
       "      <td>สงขลา</td>\n",
       "      <td>รัตภูมิ</td>\n",
       "      <td>เขาพระ</td>\n",
       "      <td>900909.0</td>\n",
       "      <td>20</td>\n",
       "      <td>ใต้</td>\n",
       "      <td>ทะเลสาบสงขลา</td>\n",
       "      <td>2003</td>\n",
       "      <td>ทะเลสาบสงขลา ( ลุ่มน้ำสาขา )</td>\n",
       "      <td>MULTIPOLYGON (((100.21039 6.98899, 100.20831 6...</td>\n",
       "    </tr>\n",
       "    <tr>\n",
       "      <th>2</th>\n",
       "      <td>สงขลา</td>\n",
       "      <td>รัตภูมิ</td>\n",
       "      <td>เขาพระ</td>\n",
       "      <td>900909.0</td>\n",
       "      <td>20</td>\n",
       "      <td>ใต้</td>\n",
       "      <td>ทะเลสาบสงขลา</td>\n",
       "      <td>2211</td>\n",
       "      <td>คลองละงู</td>\n",
       "      <td>MULTIPOLYGON (((100.06728 7.02773, 100.06756 7...</td>\n",
       "    </tr>\n",
       "    <tr>\n",
       "      <th>3</th>\n",
       "      <td>สงขลา</td>\n",
       "      <td>รัตภูมิ</td>\n",
       "      <td>เขาพระ</td>\n",
       "      <td>900909.0</td>\n",
       "      <td>20</td>\n",
       "      <td>ใต้</td>\n",
       "      <td>ทะเลสาบสงขลา</td>\n",
       "      <td>2212</td>\n",
       "      <td>คลองบำบัง</td>\n",
       "      <td>MULTIPOLYGON (((100.19106 6.94693, 100.19106 6...</td>\n",
       "    </tr>\n",
       "    <tr>\n",
       "      <th>4</th>\n",
       "      <td>สงขลา</td>\n",
       "      <td>รัตภูมิ</td>\n",
       "      <td>เขาพระ</td>\n",
       "      <td>900909.0</td>\n",
       "      <td>20</td>\n",
       "      <td>ใต้</td>\n",
       "      <td>ทะเลสาบสงขลา</td>\n",
       "      <td>2213</td>\n",
       "      <td>ภาคใต้ฝั่งตะวันตกตอนล่าง</td>\n",
       "      <td>MULTIPOLYGON (((100.13513 6.92264, 100.13516 6...</td>\n",
       "    </tr>\n",
       "    <tr>\n",
       "      <th>...</th>\n",
       "      <td>...</td>\n",
       "      <td>...</td>\n",
       "      <td>...</td>\n",
       "      <td>...</td>\n",
       "      <td>...</td>\n",
       "      <td>...</td>\n",
       "      <td>...</td>\n",
       "      <td>...</td>\n",
       "      <td>...</td>\n",
       "      <td>...</td>\n",
       "    </tr>\n",
       "    <tr>\n",
       "      <th>15639</th>\n",
       "      <td>ขอนแก่น</td>\n",
       "      <td>น้ำพอง</td>\n",
       "      <td>น้ำพอง</td>\n",
       "      <td>400701.0</td>\n",
       "      <td>04</td>\n",
       "      <td>ตะวันออกเฉียงเหน</td>\n",
       "      <td>ชี</td>\n",
       "      <td>0418</td>\n",
       "      <td>ลำน้ำพองตอนล่างส่วนที่ 1</td>\n",
       "      <td>MULTIPOLYGON (((102.87199 16.78566, 102.87216 ...</td>\n",
       "    </tr>\n",
       "    <tr>\n",
       "      <th>15640</th>\n",
       "      <td>ขอนแก่น</td>\n",
       "      <td>น้ำพอง</td>\n",
       "      <td>วังชัย</td>\n",
       "      <td>400702.0</td>\n",
       "      <td>04</td>\n",
       "      <td>ตะวันออกเฉียงเหน</td>\n",
       "      <td>ชี</td>\n",
       "      <td>0418</td>\n",
       "      <td>ลำน้ำพองตอนล่างส่วนที่ 1</td>\n",
       "      <td>MULTIPOLYGON (((102.87178 16.75169, 102.87179 ...</td>\n",
       "    </tr>\n",
       "    <tr>\n",
       "      <th>15641</th>\n",
       "      <td>ขอนแก่น</td>\n",
       "      <td>น้ำพอง</td>\n",
       "      <td>หนองกุง</td>\n",
       "      <td>400703.0</td>\n",
       "      <td>04</td>\n",
       "      <td>ตะวันออกเฉียงเหน</td>\n",
       "      <td>ชี</td>\n",
       "      <td>0418</td>\n",
       "      <td>ลำน้ำพองตอนล่างส่วนที่ 1</td>\n",
       "      <td>MULTIPOLYGON (((102.90598 16.78719, 102.90544 ...</td>\n",
       "    </tr>\n",
       "    <tr>\n",
       "      <th>15642</th>\n",
       "      <td>ขอนแก่น</td>\n",
       "      <td>น้ำพอง</td>\n",
       "      <td>บัวใหญ่</td>\n",
       "      <td>400704.0</td>\n",
       "      <td>04</td>\n",
       "      <td>ตะวันออกเฉียงเหน</td>\n",
       "      <td>ชี</td>\n",
       "      <td>0418</td>\n",
       "      <td>ลำน้ำพองตอนล่างส่วนที่ 1</td>\n",
       "      <td>MULTIPOLYGON (((102.98674 16.63923, 102.98758 ...</td>\n",
       "    </tr>\n",
       "    <tr>\n",
       "      <th>15643</th>\n",
       "      <td>ขอนแก่น</td>\n",
       "      <td>น้ำพอง</td>\n",
       "      <td>บัวใหญ่</td>\n",
       "      <td>400704.0</td>\n",
       "      <td>04</td>\n",
       "      <td>ตะวันออกเฉียงเหน</td>\n",
       "      <td>ชี</td>\n",
       "      <td>0419</td>\n",
       "      <td>ห้วยสายบาตร</td>\n",
       "      <td>MULTIPOLYGON (((103.00385 16.60729, 103.00445 ...</td>\n",
       "    </tr>\n",
       "  </tbody>\n",
       "</table>\n",
       "<p>15644 rows × 10 columns</p>\n",
       "</div>"
      ],
      "text/plain": [
       "      PROV_NAMT AMP_NAMT TAM_NAMT   code_id MB_CODE            region  \\\n",
       "0         สงขลา  รัตภูมิ   เขาพระ  900909.0      20               ใต้   \n",
       "1         สงขลา  รัตภูมิ   เขาพระ  900909.0      20               ใต้   \n",
       "2         สงขลา  รัตภูมิ   เขาพระ  900909.0      20               ใต้   \n",
       "3         สงขลา  รัตภูมิ   เขาพระ  900909.0      20               ใต้   \n",
       "4         สงขลา  รัตภูมิ   เขาพระ  900909.0      20               ใต้   \n",
       "...         ...      ...      ...       ...     ...               ...   \n",
       "15639   ขอนแก่น   น้ำพอง   น้ำพอง  400701.0      04  ตะวันออกเฉียงเหน   \n",
       "15640   ขอนแก่น   น้ำพอง   วังชัย  400702.0      04  ตะวันออกเฉียงเหน   \n",
       "15641   ขอนแก่น   น้ำพอง  หนองกุง  400703.0      04  ตะวันออกเฉียงเหน   \n",
       "15642   ขอนแก่น   น้ำพอง  บัวใหญ่  400704.0      04  ตะวันออกเฉียงเหน   \n",
       "15643   ขอนแก่น   น้ำพอง  บัวใหญ่  400704.0      04  ตะวันออกเฉียงเหน   \n",
       "\n",
       "           NBASIN_T SB_CODE                     SB_NAME_T  \\\n",
       "0      ทะเลสาบสงขลา    2002                      ทะเลหลวง   \n",
       "1      ทะเลสาบสงขลา    2003  ทะเลสาบสงขลา ( ลุ่มน้ำสาขา )   \n",
       "2      ทะเลสาบสงขลา    2211                      คลองละงู   \n",
       "3      ทะเลสาบสงขลา    2212                     คลองบำบัง   \n",
       "4      ทะเลสาบสงขลา    2213      ภาคใต้ฝั่งตะวันตกตอนล่าง   \n",
       "...             ...     ...                           ...   \n",
       "15639            ชี    0418      ลำน้ำพองตอนล่างส่วนที่ 1   \n",
       "15640            ชี    0418      ลำน้ำพองตอนล่างส่วนที่ 1   \n",
       "15641            ชี    0418      ลำน้ำพองตอนล่างส่วนที่ 1   \n",
       "15642            ชี    0418      ลำน้ำพองตอนล่างส่วนที่ 1   \n",
       "15643            ชี    0419                   ห้วยสายบาตร   \n",
       "\n",
       "                                                geometry  \n",
       "0      MULTIPOLYGON (((100.05723 7.10739, 100.05717 7...  \n",
       "1      MULTIPOLYGON (((100.21039 6.98899, 100.20831 6...  \n",
       "2      MULTIPOLYGON (((100.06728 7.02773, 100.06756 7...  \n",
       "3      MULTIPOLYGON (((100.19106 6.94693, 100.19106 6...  \n",
       "4      MULTIPOLYGON (((100.13513 6.92264, 100.13516 6...  \n",
       "...                                                  ...  \n",
       "15639  MULTIPOLYGON (((102.87199 16.78566, 102.87216 ...  \n",
       "15640  MULTIPOLYGON (((102.87178 16.75169, 102.87179 ...  \n",
       "15641  MULTIPOLYGON (((102.90598 16.78719, 102.90544 ...  \n",
       "15642  MULTIPOLYGON (((102.98674 16.63923, 102.98758 ...  \n",
       "15643  MULTIPOLYGON (((103.00385 16.60729, 103.00445 ...  \n",
       "\n",
       "[15644 rows x 10 columns]"
      ]
     },
     "execution_count": 5,
     "metadata": {},
     "output_type": "execute_result"
    }
   ],
   "source": [
    "countries_gdf = geopandas.read_file(\"data/tambon_v2.gpkg\", layer='tambon',crs={'init': 'epsg:4326'})\n",
    "countries_gdf"
   ]
  },
  {
   "cell_type": "code",
   "execution_count": 7,
   "id": "eb38a7bf",
   "metadata": {
    "scrolled": true
   },
   "outputs": [],
   "source": [
    "start=time.time()\n",
    "ide = geopandas.overlay( gdf,countries_gdf, how='identity')\n",
    "ide\n",
    "diftime= time.time()-start\n"
   ]
  },
  {
   "cell_type": "code",
   "execution_count": 9,
   "id": "251483c2",
   "metadata": {},
   "outputs": [],
   "source": [
    "start=time.time()\n",
    "ide = geopandas.sjoin( gdf,countries_gdf)\n",
    "ide\n",
    "diftime= time.time()-start\n",
    "\n"
   ]
  },
  {
   "cell_type": "code",
   "execution_count": 10,
   "id": "7f4f48fa",
   "metadata": {},
   "outputs": [
    {
     "data": {
      "text/plain": [
       "0.16179800033569336"
      ]
     },
     "execution_count": 10,
     "metadata": {},
     "output_type": "execute_result"
    }
   ],
   "source": [
    "diftime"
   ]
  },
  {
   "cell_type": "code",
   "execution_count": 11,
   "id": "c41e5c11",
   "metadata": {},
   "outputs": [
    {
     "data": {
      "text/plain": [
       "'{\"type\": \"FeatureCollection\", \"features\": [{\"id\": \"0\", \"type\": \"Feature\", \"properties\": {\"AMP_NAMT\": \"\\\\u0e23\\\\u0e31\\\\u0e15\\\\u0e20\\\\u0e39\\\\u0e21\\\\u0e34\", \"MB_CODE\": \"20\", \"NBASIN_T\": \"\\\\u0e17\\\\u0e30\\\\u0e40\\\\u0e25\\\\u0e2a\\\\u0e32\\\\u0e1a\\\\u0e2a\\\\u0e07\\\\u0e02\\\\u0e25\\\\u0e32\", \"PROV_NAMT\": \"\\\\u0e2a\\\\u0e07\\\\u0e02\\\\u0e25\\\\u0e32\", \"SB_CODE\": \"2003\", \"SB_NAME_T\": \"\\\\u0e17\\\\u0e30\\\\u0e40\\\\u0e25\\\\u0e2a\\\\u0e32\\\\u0e1a\\\\u0e2a\\\\u0e07\\\\u0e02\\\\u0e25\\\\u0e32 ( \\\\u0e25\\\\u0e38\\\\u0e48\\\\u0e21\\\\u0e19\\\\u0e49\\\\u0e33\\\\u0e2a\\\\u0e32\\\\u0e02\\\\u0e32 )\", \"TAM_NAMT\": \"\\\\u0e40\\\\u0e02\\\\u0e32\\\\u0e1e\\\\u0e23\\\\u0e30\", \"code_id\": 900909.0, \"index_right\": 1, \"lat\": 6.98899, \"lng\": 100.20831, \"region\": \"\\\\u0e43\\\\u0e15\\\\u0e49\"}, \"geometry\": {\"type\": \"Point\", \"coordinates\": [100.20831, 6.98899]}}, {\"id\": \"1\", \"type\": \"Feature\", \"properties\": {\"AMP_NAMT\": \"\\\\u0e23\\\\u0e31\\\\u0e15\\\\u0e20\\\\u0e39\\\\u0e21\\\\u0e34\", \"MB_CODE\": \"20\", \"NBASIN_T\": \"\\\\u0e17\\\\u0e30\\\\u0e40\\\\u0e25\\\\u0e2a\\\\u0e32\\\\u0e1a\\\\u0e2a\\\\u0e07\\\\u0e02\\\\u0e25\\\\u0e32\", \"PROV_NAMT\": \"\\\\u0e2a\\\\u0e07\\\\u0e02\\\\u0e25\\\\u0e32\", \"SB_CODE\": \"2003\", \"SB_NAME_T\": \"\\\\u0e17\\\\u0e30\\\\u0e40\\\\u0e25\\\\u0e2a\\\\u0e32\\\\u0e1a\\\\u0e2a\\\\u0e07\\\\u0e02\\\\u0e25\\\\u0e32 ( \\\\u0e25\\\\u0e38\\\\u0e48\\\\u0e21\\\\u0e19\\\\u0e49\\\\u0e33\\\\u0e2a\\\\u0e32\\\\u0e02\\\\u0e32 )\", \"TAM_NAMT\": \"\\\\u0e40\\\\u0e02\\\\u0e32\\\\u0e1e\\\\u0e23\\\\u0e30\", \"code_id\": 900909.0, \"index_right\": 1, \"lat\": 7.10658, \"lng\": 100.05704, \"region\": \"\\\\u0e43\\\\u0e15\\\\u0e49\"}, \"geometry\": {\"type\": \"Point\", \"coordinates\": [100.05704, 7.10658]}}, {\"id\": \"3\", \"type\": \"Feature\", \"properties\": {\"AMP_NAMT\": \"\\\\u0e17\\\\u0e31\\\\u0e1a\\\\u0e1b\\\\u0e38\\\\u0e14\", \"MB_CODE\": \"22\", \"NBASIN_T\": \"\\\\u0e20\\\\u0e32\\\\u0e04\\\\u0e43\\\\u0e15\\\\u0e49\\\\u0e1d\\\\u0e31\\\\u0e48\\\\u0e07\\\\u0e15\\\\u0e30\\\\u0e27\\\\u0e31\\\\u0e19\\\\u0e15\\\\u0e01\", \"PROV_NAMT\": \"\\\\u0e1e\\\\u0e31\\\\u0e07\\\\u0e07\\\\u0e32\", \"SB_CODE\": \"2205\", \"SB_NAME_T\": \"\\\\u0e20\\\\u0e32\\\\u0e04\\\\u0e43\\\\u0e15\\\\u0e49\\\\u0e1d\\\\u0e31\\\\u0e48\\\\u0e07\\\\u0e15\\\\u0e30\\\\u0e27\\\\u0e31\\\\u0e19\\\\u0e15\\\\u0e01\\\\u0e2a\\\\u0e48\\\\u0e27\\\\u0e19\\\\u0e17\\\\u0e35\\\\u0e48 2\", \"TAM_NAMT\": \"\\\\u0e16\\\\u0e49\\\\u0e33\\\\u0e17\\\\u0e2d\\\\u0e07\\\\u0e2b\\\\u0e25\\\\u0e32\\\\u0e07\", \"code_id\": 820704.0, \"index_right\": 287, \"lat\": 8.50352, \"lng\": 98.58305, \"region\": \"\\\\u0e43\\\\u0e15\\\\u0e49\"}, \"geometry\": {\"type\": \"Point\", \"coordinates\": [98.58305, 8.50352]}}]}'"
      ]
     },
     "execution_count": 11,
     "metadata": {},
     "output_type": "execute_result"
    }
   ],
   "source": [
    "j=ide.to_json()\n",
    "j"
   ]
  },
  {
   "cell_type": "code",
   "execution_count": null,
   "id": "0d9affc8",
   "metadata": {},
   "outputs": [],
   "source": []
  }
 ],
 "metadata": {
  "kernelspec": {
   "display_name": "Python 3",
   "language": "python",
   "name": "python3"
  },
  "language_info": {
   "codemirror_mode": {
    "name": "ipython",
    "version": 3
   },
   "file_extension": ".py",
   "mimetype": "text/x-python",
   "name": "python",
   "nbconvert_exporter": "python",
   "pygments_lexer": "ipython3",
   "version": "3.8.2"
  }
 },
 "nbformat": 4,
 "nbformat_minor": 5
}
